{
  "nbformat": 4,
  "nbformat_minor": 0,
  "metadata": {
    "colab": {
      "provenance": [],
      "include_colab_link": true
    },
    "kernelspec": {
      "name": "python3",
      "display_name": "Python 3"
    },
    "language_info": {
      "name": "python"
    }
  },
  "cells": [
    {
      "cell_type": "markdown",
      "metadata": {
        "id": "view-in-github",
        "colab_type": "text"
      },
      "source": [
        "<a href=\"https://colab.research.google.com/github/Tr-tuhin/DIP_LAB_TASK_2019331534-1-/blob/main/Copy_of_DIP_lab_exam_sec%5B19_20%5D.ipynb\" target=\"_parent\"><img src=\"https://colab.research.google.com/assets/colab-badge.svg\" alt=\"Open In Colab\"/></a>"
      ]
    },
    {
      "cell_type": "markdown",
      "source": [
        "## Task of DIP Lab Final 2024(SEC 2019-20):\n",
        "1.  Upload the image(`DIP_Lab_task_01.png`) from drive with extracting details like: image dimension, frequency distribution of intensities, range. [5]\n",
        "2.  Convert the RGB image(`DIP_Lab_task_02.jpg`) to a gray scale image and compare a sub-region of the image by intensity values(5*5 dimension would be enough for comparison). [10]\n",
        "3.  Apply Image(`DIP_Lab_task_03.png`) smoothing with appropriate kernel applied. Identify the noise(if any) before processing. [35]\n",
        "4.  Implement an appropriate technique to reduce the brightness of the provided image (`DIP_Lab_task_04.jpg`) effectively. [20]\n",
        "5.  Solve the segmentation problem for the given image: `'DIP_Lab_task_05.jpg'` [30]\n",
        "\n"
      ],
      "metadata": {
        "id": "E7Fn1ae9B0Nf"
      }
    },
    {
      "cell_type": "markdown",
      "source": [
        "## Lab Resources\n",
        "\n",
        "https://drive.google.com/drive/folders/1DnF8_teHpzrHNvSspl-W5ooxNyxvUU2t?usp=sharing"
      ],
      "metadata": {
        "id": "bOrEVxhRNXLi"
      }
    },
    {
      "cell_type": "markdown",
      "source": [
        "Some Instructions to be strictly followed:\n",
        "- You have to do the task individually but can discuss about the solution approach and possible technique to be applied to get the task done.\n",
        "- **Do not share any of your code** with your fellow classmates that may have a huge penalty on both of your score.\n",
        "- Create a git repo and submit the task there. Try to commit after completing each task individually. The git repo should be **private** until the submission.\n",
        "- Make a video presentation of 4 minutes(max) explaining:\n",
        "  1. Briefly explain the logical part of each task and what approaches you have taken to solve the problem\n",
        "  2. Show the graphics output of the tasks\n",
        "  3. Give a tour of your code\n",
        "  4. Is there any other way to achieve similar/better results\n",
        "  5. Mention the sources you got assistance from.[e.g. chatGPT]\n",
        "\n",
        "### Deadline: 27/12/24 <11:59 pm>\n",
        "*I won't accept any late submission. Your git repo should be public after 28/12/24 12:00 am*"
      ],
      "metadata": {
        "id": "NpcLbiwiMXtR"
      }
    },
    {
      "cell_type": "markdown",
      "source": [
        "Submission Link: https://docs.google.com/forms/d/e/1FAIpQLScK7S7uc_zNd4yhNyyAS0J97fq2S4k7fzZcf4pvX3z0E3A2rg/viewform?usp=header"
      ],
      "metadata": {
        "id": "BPY4fLVVgpBx"
      }
    },
    {
      "cell_type": "code",
      "source": [
        "from google.colab import drive\n",
        "drive.mount('/content/drive')"
      ],
      "metadata": {
        "colab": {
          "base_uri": "https://localhost:8080/"
        },
        "id": "MmsrepOuEjYT",
        "outputId": "d8e00503-aa5a-4e0b-982b-378a6be14f42"
      },
      "execution_count": 4,
      "outputs": [
        {
          "output_type": "stream",
          "name": "stdout",
          "text": [
            "Drive already mounted at /content/drive; to attempt to forcibly remount, call drive.mount(\"/content/drive\", force_remount=True).\n"
          ]
        }
      ]
    },
    {
      "cell_type": "code",
      "source": [
        "# Task 01\n",
        "\n",
        "# Import necessary libraries\n",
        "import cv2\n",
        "import matplotlib.pyplot as plt\n",
        "import numpy as np\n",
        "\n",
        "# Define the image file path\n",
        "image_file = '/content/drive/MyDrive/DIP_Final_Image/DIP_Lab_task_01 (1).png'\n",
        "\n",
        "# Read the image\n",
        "image_data = cv2.imread(image_file)\n",
        "\n",
        "# Display the shape of the image\n",
        "dimensions = image_data.shape\n",
        "print(\"Image Dimensions (Height, Width, Channels):\", dimensions)\n",
        "\n",
        "# Compute the histogram for pixel intensities\n",
        "pixel_histogram = cv2.calcHist([image_data], [0], None, [256], [0, 256])\n",
        "\n",
        "# Plot the histogram\n",
        "plt.figure(figsize=(8, 5))\n",
        "plt.title(\"Pixel Intensity Histogram\")\n",
        "plt.xlabel(\"Intensity Value\")\n",
        "plt.ylabel(\"Count\")\n",
        "plt.plot(pixel_histogram, linestyle='-', color='purple')\n",
        "plt.show()\n",
        "\n",
        "# Compute the pixel intensity range\n",
        "pixel_range = np.ptp(image_data)  # Peak-to-Peak difference (max - min)\n",
        "print(f\"Pixel Intensity Range: {pixel_range}\")"
      ],
      "metadata": {
        "colab": {
          "base_uri": "https://localhost:8080/",
          "height": 522
        },
        "id": "mmbWLCPdJQKp",
        "outputId": "af1cb12d-8202-4fd0-b0d8-a2e8e9bfe35d"
      },
      "execution_count": 16,
      "outputs": [
        {
          "output_type": "stream",
          "name": "stdout",
          "text": [
            "Image Dimensions (Height, Width, Channels): (225, 225, 3)\n"
          ]
        },
        {
          "output_type": "display_data",
          "data": {
            "text/plain": [
              "<Figure size 800x500 with 1 Axes>"
            ],
            "image/png": "[encoded data removed]"
          },
          "metadata": {}
        },
        {
          "output_type": "stream",
          "name": "stdout",
          "text": [
            "Pixel Intensity Range: 250\n"
          ]
        }
      ]
    }
  ]
}